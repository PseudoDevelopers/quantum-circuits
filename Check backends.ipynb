{
 "cells": [
  {
   "cell_type": "markdown",
   "metadata": {},
   "source": [
    "## Loading account"
   ]
  },
  {
   "cell_type": "code",
   "execution_count": 32,
   "metadata": {},
   "outputs": [
    {
     "name": "stderr",
     "output_type": "stream",
     "text": [
      "configrc.store_credentials:WARNING:2020-09-20 11:07:42,207: Credentials already present. Set overwrite=True to overwrite.\n",
      "ibmqfactory.load_account:WARNING:2020-09-20 11:07:43,511: Credentials are already in use. The existing account in the session will be replaced.\n"
     ]
    }
   ],
   "source": [
    "from load_account import loadAccount\n",
    "loadAccount()"
   ]
  },
  {
   "cell_type": "markdown",
   "metadata": {},
   "source": [
    "## Getting backends"
   ]
  },
  {
   "cell_type": "code",
   "execution_count": 33,
   "metadata": {},
   "outputs": [],
   "source": [
    "provider = IBMQ.get_provider('ibm-q')\n",
    "\n",
    "backends = []\n",
    "\n",
    "for backend in provider.backends():\n",
    "    newbackend = { 'Name': backend.name() }\n",
    "    backends.append(newbackend)\n",
    "\n",
    "    try:\n",
    "        newbackend['Queue'] = backend.status().pending_jobs\n",
    "        newbackend['Status'] = 'Online' if backend.status().operational else 'Maintenance'\n",
    "        newbackend['Qubits'] = len(backend.properties().qubits)\n",
    "    except:\n",
    "        newbackend['Qubits'] = None"
   ]
  },
  {
   "cell_type": "code",
   "execution_count": 34,
   "metadata": {},
   "outputs": [],
   "source": [
    "# Sorting\n",
    "backends = sorted(backends, key = lambda i: i['Queue'])"
   ]
  },
  {
   "cell_type": "code",
   "execution_count": 35,
   "metadata": {},
   "outputs": [
    {
     "name": "stdout",
     "output_type": "stream",
     "text": [
      "===================  =======  ===========  ========\n",
      "Name                   Queue  Status         Qubits\n",
      "===================  =======  ===========  ========\n",
      "ibmq_qasm_simulator        0  Online\n",
      "ibmq_16_melbourne          0  Online             15\n",
      "ibmq_london                2  Maintenance         5\n",
      "ibmq_essex                 2  Maintenance         5\n",
      "ibmq_burlington            3  Maintenance         5\n",
      "ibmq_armonk                5  Online              1\n",
      "ibmqx2                    19  Online              5\n",
      "ibmq_santiago             49  Online              5\n",
      "ibmq_vigo                 53  Online              5\n",
      "ibmq_ourense              53  Online              5\n",
      "ibmq_valencia             71  Online              5\n",
      "===================  =======  ===========  ========\n"
     ]
    }
   ],
   "source": [
    "from tabulate import tabulate\n",
    "\n",
    "print(tabulate(backends, headers='keys', tablefmt='rst'))"
   ]
  }
 ],
 "metadata": {
  "kernelspec": {
   "display_name": "Python 3",
   "language": "python",
   "name": "python3"
  },
  "language_info": {
   "codemirror_mode": {
    "name": "ipython",
    "version": 3
   },
   "file_extension": ".py",
   "mimetype": "text/x-python",
   "name": "python",
   "nbconvert_exporter": "python",
   "pygments_lexer": "ipython3",
   "version": "3.7.9"
  }
 },
 "nbformat": 4,
 "nbformat_minor": 4
}
